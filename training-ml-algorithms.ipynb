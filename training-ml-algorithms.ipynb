{
 "cells": [
  {
   "cell_type": "markdown",
   "metadata": {},
   "source": [
    "## Import necessary libraries"
   ]
  },
  {
   "cell_type": "code",
   "execution_count": 3,
   "metadata": {
    "_cell_guid": "b1076dfc-b9ad-4769-8c92-a6c4dae69d19",
    "_uuid": "8f2839f25d086af736a60e9eeb907d3b93b6e0e5",
    "trusted": true
   },
   "outputs": [],
   "source": [
    "import torch\n",
    "\n",
    "import pandas as pd\n",
    "from sklearn.preprocessing import LabelEncoder\n",
    "from sklearn.metrics import confusion_matrix, accuracy_score, precision_score, recall_score, f1_score\n",
    "from xgboost import XGBClassifier\n",
    "from sklearn.model_selection import train_test_split\n",
    "from sklearn.feature_extraction.text import TfidfVectorizer\n",
    "from sklearn import svm\n",
    "from sklearn.ensemble import RandomForestClassifier\n",
    "\n",
    "import tqdm as notebook_tqdm"
   ]
  },
  {
   "cell_type": "code",
   "execution_count": 4,
   "metadata": {
    "execution": {
     "iopub.execute_input": "2025-07-26T10:53:13.421613Z",
     "iopub.status.busy": "2025-07-26T10:53:13.421284Z",
     "iopub.status.idle": "2025-07-26T10:53:13.426708Z",
     "shell.execute_reply": "2025-07-26T10:53:13.425495Z",
     "shell.execute_reply.started": "2025-07-26T10:53:13.421590Z"
    },
    "trusted": true
   },
   "outputs": [],
   "source": [
    "import os\n",
    "os.environ[\"WANDB_DISABLED\"] = \"true\""
   ]
  },
  {
   "cell_type": "markdown",
   "metadata": {},
   "source": [
    "## Set device to GPU (if available)"
   ]
  },
  {
   "cell_type": "code",
   "execution_count": 5,
   "metadata": {
    "execution": {
     "iopub.execute_input": "2025-07-26T08:57:48.082138Z",
     "iopub.status.busy": "2025-07-26T08:57:48.081468Z",
     "iopub.status.idle": "2025-07-26T08:57:48.091767Z",
     "shell.execute_reply": "2025-07-26T08:57:48.091138Z",
     "shell.execute_reply.started": "2025-07-26T08:57:48.082105Z"
    },
    "trusted": true
   },
   "outputs": [
    {
     "name": "stdout",
     "output_type": "stream",
     "text": [
      "No GPU available, using the CPU instead.\n"
     ]
    }
   ],
   "source": [
    "torch.manual_seed(42)\n",
    "\n",
    "if torch.cuda.is_available():\n",
    "    device = torch.device(\"cuda\")\n",
    "    print('There are %d GPU(s) available.' % torch.cuda.device_count())\n",
    "    print('We will use the GPU:', torch.cuda.get_device_name(0))\n",
    "else:\n",
    "    print('No GPU available, using the CPU instead.')\n",
    "    device = torch.device(\"cpu\")"
   ]
  },
  {
   "cell_type": "markdown",
   "metadata": {},
   "source": [
    "## Get dataset"
   ]
  },
  {
   "cell_type": "code",
   "execution_count": null,
   "metadata": {
    "execution": {
     "iopub.execute_input": "2025-07-26T10:53:18.648875Z",
     "iopub.status.busy": "2025-07-26T10:53:18.648478Z",
     "iopub.status.idle": "2025-07-26T10:53:18.903087Z",
     "shell.execute_reply": "2025-07-26T10:53:18.902269Z",
     "shell.execute_reply.started": "2025-07-26T10:53:18.648848Z"
    },
    "trusted": true
   },
   "outputs": [
    {
     "name": "stdout",
     "output_type": "stream",
     "text": [
      "(26923, 2)\n"
     ]
    },
    {
     "data": {
      "text/html": [
       "<div>\n",
       "<style scoped>\n",
       "    .dataframe tbody tr th:only-of-type {\n",
       "        vertical-align: middle;\n",
       "    }\n",
       "\n",
       "    .dataframe tbody tr th {\n",
       "        vertical-align: top;\n",
       "    }\n",
       "\n",
       "    .dataframe thead th {\n",
       "        text-align: right;\n",
       "    }\n",
       "</style>\n",
       "<table border=\"1\" class=\"dataframe\">\n",
       "  <thead>\n",
       "    <tr style=\"text-align: right;\">\n",
       "      <th></th>\n",
       "      <th>data</th>\n",
       "      <th>label</th>\n",
       "    </tr>\n",
       "  </thead>\n",
       "  <tbody>\n",
       "    <tr>\n",
       "      <th>0</th>\n",
       "      <td>an extremist hindu crying for no reason</td>\n",
       "      <td>hate</td>\n",
       "    </tr>\n",
       "    <tr>\n",
       "      <th>1</th>\n",
       "      <td>हमारे मूर्धन्य हमारा खुदा हैं एक hi होता हैं</td>\n",
       "      <td>non-hate</td>\n",
       "    </tr>\n",
       "    <tr>\n",
       "      <th>2</th>\n",
       "      <td>इसमें देखो कौन पैसे के लिए दौड़ता he हिन्दू एक...</td>\n",
       "      <td>non-hate</td>\n",
       "    </tr>\n",
       "    <tr>\n",
       "      <th>3</th>\n",
       "      <td>वही नारा अब हम लोगों को भी follow करना पड़ेगा</td>\n",
       "      <td>non-hate</td>\n",
       "    </tr>\n",
       "    <tr>\n",
       "      <th>4</th>\n",
       "      <td>तुम जैसे कुछ बूंद लोगों की वजह se सबकी pakista...</td>\n",
       "      <td>non-hate</td>\n",
       "    </tr>\n",
       "  </tbody>\n",
       "</table>\n",
       "</div>"
      ],
      "text/plain": [
       "                                                data     label\n",
       "0            an extremist hindu crying for no reason      hate\n",
       "1       हमारे मूर्धन्य हमारा खुदा हैं एक hi होता हैं  non-hate\n",
       "2  इसमें देखो कौन पैसे के लिए दौड़ता he हिन्दू एक...  non-hate\n",
       "3      वही नारा अब हम लोगों को भी follow करना पड़ेगा  non-hate\n",
       "4  तुम जैसे कुछ बूंद लोगों की वजह se सबकी pakista...  non-hate"
      ]
     },
     "execution_count": 6,
     "metadata": {},
     "output_type": "execute_result"
    }
   ],
   "source": [
    "df = pd.read_csv(\"/kaggle/input/hinglish-hate/hate-dataset-train.csv\")\n",
    "print(df.shape)\n",
    "df.head()"
   ]
  },
  {
   "cell_type": "markdown",
   "metadata": {},
   "source": [
    "## ML Algorithms testing"
   ]
  },
  {
   "cell_type": "markdown",
   "metadata": {},
   "source": [
    "- Encode categorical values in `y`\n",
    "- Tokenize the data in `X` with TF-IDF\n",
    "- Split the datasets into train and test"
   ]
  },
  {
   "cell_type": "code",
   "execution_count": 7,
   "metadata": {
    "execution": {
     "iopub.execute_input": "2025-07-26T10:53:22.235043Z",
     "iopub.status.busy": "2025-07-26T10:53:22.234662Z",
     "iopub.status.idle": "2025-07-26T10:53:24.001260Z",
     "shell.execute_reply": "2025-07-26T10:53:24.000086Z",
     "shell.execute_reply.started": "2025-07-26T10:53:22.235019Z"
    },
    "trusted": true
   },
   "outputs": [
    {
     "name": "stdout",
     "output_type": "stream",
     "text": [
      "Encoder has the following classes: ['hate' 'non-hate']\n",
      "The new data type for y is <class 'numpy.ndarray'>\n"
     ]
    }
   ],
   "source": [
    "X = df['data']\n",
    "y = df['label']\n",
    "\n",
    "encoder = LabelEncoder()\n",
    "encoder.fit(y)\n",
    "y_encoded = encoder.transform(y)\n",
    "print(f\"Encoder has the following classes: {encoder.classes_}\")\n",
    "print(f\"The new data type for y is {type(y_encoded)}\")\n",
    "\n",
    "tfidf = TfidfVectorizer()\n",
    "X_enc = tfidf.fit_transform(X)\n",
    "X_enc_dense = X_enc.toarray()"
   ]
  },
  {
   "cell_type": "code",
   "execution_count": 8,
   "metadata": {
    "execution": {
     "iopub.execute_input": "2025-07-26T10:53:25.484146Z",
     "iopub.status.busy": "2025-07-26T10:53:25.483782Z",
     "iopub.status.idle": "2025-07-26T10:53:28.218870Z",
     "shell.execute_reply": "2025-07-26T10:53:28.217874Z",
     "shell.execute_reply.started": "2025-07-26T10:53:25.484122Z"
    },
    "trusted": true
   },
   "outputs": [
    {
     "data": {
      "text/plain": [
       "(21538, 21538)"
      ]
     },
     "execution_count": 8,
     "metadata": {},
     "output_type": "execute_result"
    }
   ],
   "source": [
    "X_train, X_test, y_train, y_test = train_test_split(X_enc_dense, y_encoded, test_size=0.2, random_state=42)\n",
    "len(X_train), len(y_train)"
   ]
  },
  {
   "cell_type": "markdown",
   "metadata": {},
   "source": [
    "### SVM algorithm training and evaluation"
   ]
  },
  {
   "cell_type": "code",
   "execution_count": 6,
   "metadata": {
    "execution": {
     "iopub.execute_input": "2025-07-26T09:14:20.115920Z",
     "iopub.status.busy": "2025-07-26T09:14:20.115578Z",
     "iopub.status.idle": "2025-07-26T10:31:35.770015Z",
     "shell.execute_reply": "2025-07-26T10:31:35.768004Z",
     "shell.execute_reply.started": "2025-07-26T09:14:20.115897Z"
    },
    "trusted": true
   },
   "outputs": [
    {
     "name": "stdout",
     "output_type": "stream",
     "text": [
      "Precision: 0.7011217478889121\n",
      "Recall: 0.695636025998143\n",
      "F1-score: 0.6680690921514153\n"
     ]
    }
   ],
   "source": [
    "svm_model = svm.SVC(kernel='linear')\n",
    "svm_model.fit(X_train, y_train)\n",
    "\n",
    "y_pred = svm_model.predict(X_test) \n",
    "\n",
    "precision = precision_score(y_test, y_pred, average='weighted')\n",
    "recall = recall_score(y_test, y_pred, average='weighted')\n",
    "f1 = f1_score(y_test, y_pred, average='weighted')\n",
    "\n",
    "print(\"Precision:\", precision)\n",
    "print(\"Recall:\", recall)\n",
    "print(\"F1-score:\", f1)"
   ]
  },
  {
   "cell_type": "markdown",
   "metadata": {},
   "source": [
    "### Random Forest Classifier Training and Evaluation"
   ]
  },
  {
   "cell_type": "code",
   "execution_count": 6,
   "metadata": {
    "execution": {
     "iopub.execute_input": "2025-07-26T10:53:38.353976Z",
     "iopub.status.busy": "2025-07-26T10:53:38.353596Z",
     "iopub.status.idle": "2025-07-26T10:58:36.541584Z",
     "shell.execute_reply": "2025-07-26T10:58:36.540658Z",
     "shell.execute_reply.started": "2025-07-26T10:53:38.353950Z"
    },
    "trusted": true
   },
   "outputs": [
    {
     "name": "stdout",
     "output_type": "stream",
     "text": [
      "Precision: 0.6883612467899686\n",
      "Recall: 0.6785515320334262\n",
      "F1-score: 0.6393727341539612\n"
     ]
    }
   ],
   "source": [
    "RF_model = RandomForestClassifier()\n",
    "RF_model.fit(X_train, y_train)\n",
    "\n",
    "y_pred =RF_model.predict(X_test)\n",
    "\n",
    "precision = precision_score(y_test, y_pred, average='weighted')\n",
    "recall = recall_score(y_test, y_pred, average='weighted')\n",
    "f1 = f1_score(y_test, y_pred, average='weighted')\n",
    "\n",
    "print(\"Precision:\", precision)\n",
    "print(\"Recall:\", recall)\n",
    "print(\"F1-score:\", f1)"
   ]
  },
  {
   "cell_type": "code",
   "execution_count": 10,
   "metadata": {},
   "outputs": [
    {
     "name": "stdout",
     "output_type": "stream",
     "text": [
      "Precision: 0.7026033669545919\n",
      "Recall: 0.6911792014856082\n",
      "F1-score: 0.6570311125115097\n"
     ]
    }
   ],
   "source": [
    "xgb_model =  XGBClassifier(eval_metric='logloss', random_state=42)\n",
    "xgb_model.fit(X_train, y_train)\n",
    "\n",
    "y_pred = xgb_model.predict(X_test)\n",
    "\n",
    "precision = precision_score(y_test, y_pred, average='weighted')\n",
    "recall = recall_score(y_test, y_pred, average='weighted')\n",
    "f1 = f1_score(y_test, y_pred, average='weighted')\n",
    "\n",
    "print(\"Precision:\", precision)\n",
    "print(\"Recall:\", recall)\n",
    "print(\"F1-score:\", f1)"
   ]
  }
 ],
 "metadata": {
  "kaggle": {
   "accelerator": "gpu",
   "dataSources": [
    {
     "datasetId": 7603360,
     "sourceId": 12078472,
     "sourceType": "datasetVersion"
    },
    {
     "datasetId": 7629200,
     "sourceId": 12116847,
     "sourceType": "datasetVersion"
    }
   ],
   "dockerImageVersionId": 31041,
   "isGpuEnabled": true,
   "isInternetEnabled": true,
   "language": "python",
   "sourceType": "notebook"
  },
  "kernelspec": {
   "display_name": "Python 3",
   "language": "python",
   "name": "python3"
  },
  "language_info": {
   "codemirror_mode": {
    "name": "ipython",
    "version": 3
   },
   "file_extension": ".py",
   "mimetype": "text/x-python",
   "name": "python",
   "nbconvert_exporter": "python",
   "pygments_lexer": "ipython3",
   "version": "3.11.11"
  }
 },
 "nbformat": 4,
 "nbformat_minor": 4
}
