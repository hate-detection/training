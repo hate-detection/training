{
 "cells": [
  {
   "cell_type": "markdown",
   "metadata": {},
   "source": [
    "### Import Required Libraries"
   ]
  },
  {
   "cell_type": "code",
   "execution_count": null,
   "metadata": {
    "_cell_guid": "b1076dfc-b9ad-4769-8c92-a6c4dae69d19",
    "_uuid": "8f2839f25d086af736a60e9eeb907d3b93b6e0e5",
    "trusted": true
   },
   "outputs": [],
   "source": [
    "import torch\n",
    "\n",
    "from transformers import AutoModelForSequenceClassification, AutoTokenizer, Trainer, TrainingArguments, EarlyStoppingCallback, get_linear_schedule_with_warmup, get_cosine_with_hard_restarts_schedule_with_warmup\n",
    "from torch.optim import AdamW\n",
    "import pandas as pd\n",
    "from torch.utils.data import random_split, DataLoader, RandomSampler, SequentialSampler, Dataset\n",
    "from sklearn.preprocessing import LabelEncoder\n",
    "from sklearn.utils import compute_class_weight\n",
    "from sklearn.metrics import confusion_matrix, accuracy_score, precision_score, recall_score, f1_score\n",
    "import torch.nn as nn\n",
    "\n",
    "import tqdm as notebook_tqdm\n",
    "\n",
    "import numpy as np\n",
    "import time\n",
    "import datetime\n",
    "import random\n",
    "\n",
    "import matplotlib.pyplot as plt\n",
    "from matplotlib import font_manager\n",
    "import seaborn as sns"
   ]
  },
  {
   "cell_type": "markdown",
   "metadata": {},
   "source": [
    "### Get Model Name and Tokenizer"
   ]
  },
  {
   "cell_type": "code",
   "execution_count": 2,
   "metadata": {
    "execution": {
     "iopub.execute_input": "2025-06-10T15:14:26.191434Z",
     "iopub.status.busy": "2025-06-10T15:14:26.191146Z",
     "iopub.status.idle": "2025-06-10T15:14:30.632834Z",
     "shell.execute_reply": "2025-06-10T15:14:30.632278Z",
     "shell.execute_reply.started": "2025-06-10T15:14:26.191414Z"
    },
    "trusted": true
   },
   "outputs": [
    {
     "data": {
      "application/vnd.jupyter.widget-view+json": {
       "model_id": "75668b68dcbb4dbf94c2d3d9f799d429",
       "version_major": 2,
       "version_minor": 0
      },
      "text/plain": [
       "tokenizer_config.json:   0%|          | 0.00/206 [00:00<?, ?B/s]"
      ]
     },
     "metadata": {},
     "output_type": "display_data"
    },
    {
     "data": {
      "application/vnd.jupyter.widget-view+json": {
       "model_id": "102beec97664433a8ec0bc4726bc7df1",
       "version_major": 2,
       "version_minor": 0
      },
      "text/plain": [
       "config.json:   0%|          | 0.00/411 [00:00<?, ?B/s]"
      ]
     },
     "metadata": {},
     "output_type": "display_data"
    },
    {
     "data": {
      "application/vnd.jupyter.widget-view+json": {
       "model_id": "075bf5f5912a47ec8759df619aa09471",
       "version_major": 2,
       "version_minor": 0
      },
      "text/plain": [
       "vocab.txt:   0%|          | 0.00/3.16M [00:00<?, ?B/s]"
      ]
     },
     "metadata": {},
     "output_type": "display_data"
    },
    {
     "data": {
      "application/vnd.jupyter.widget-view+json": {
       "model_id": "2290ea2f1c324cd4a7a5f70f9f9a4ac3",
       "version_major": 2,
       "version_minor": 0
      },
      "text/plain": [
       "special_tokens_map.json:   0%|          | 0.00/113 [00:00<?, ?B/s]"
      ]
     },
     "metadata": {},
     "output_type": "display_data"
    }
   ],
   "source": [
    "model_name = 'google/muril-base-cased'\n",
    "tokenizer = AutoTokenizer.from_pretrained(model_name)"
   ]
  },
  {
   "cell_type": "markdown",
   "metadata": {},
   "source": [
    "### Set Device to CUDA"
   ]
  },
  {
   "cell_type": "code",
   "execution_count": 3,
   "metadata": {
    "execution": {
     "iopub.execute_input": "2025-06-10T15:14:33.314431Z",
     "iopub.status.busy": "2025-06-10T15:14:33.313809Z",
     "iopub.status.idle": "2025-06-10T15:14:33.317848Z",
     "shell.execute_reply": "2025-06-10T15:14:33.317310Z",
     "shell.execute_reply.started": "2025-06-10T15:14:33.314406Z"
    },
    "trusted": true
   },
   "outputs": [],
   "source": [
    "import os\n",
    "os.environ[\"WANDB_DISABLED\"] = \"true\""
   ]
  },
  {
   "cell_type": "code",
   "execution_count": 4,
   "metadata": {
    "execution": {
     "iopub.execute_input": "2025-06-10T15:14:39.258022Z",
     "iopub.status.busy": "2025-06-10T15:14:39.257181Z",
     "iopub.status.idle": "2025-06-10T15:14:39.269701Z",
     "shell.execute_reply": "2025-06-10T15:14:39.268877Z",
     "shell.execute_reply.started": "2025-06-10T15:14:39.257992Z"
    },
    "trusted": true
   },
   "outputs": [
    {
     "name": "stdout",
     "output_type": "stream",
     "text": [
      "There are 1 GPU(s) available.\n",
      "We will use the GPU: Tesla P100-PCIE-16GB\n"
     ]
    }
   ],
   "source": [
    "torch.manual_seed(42)\n",
    "\n",
    "if torch.cuda.is_available():\n",
    "    device = torch.device(\"cuda\")\n",
    "    print('There are %d GPU(s) available.' % torch.cuda.device_count())\n",
    "    print('We will use the GPU:', torch.cuda.get_device_name(0))\n",
    "else:\n",
    "    print('No GPU available, using the CPU instead.')\n",
    "    device = torch.device(\"cpu\")"
   ]
  },
  {
   "cell_type": "markdown",
   "metadata": {},
   "source": [
    "### Prepare Dataset"
   ]
  },
  {
   "cell_type": "markdown",
   "metadata": {},
   "source": [
    "- Load Data"
   ]
  },
  {
   "cell_type": "code",
   "execution_count": null,
   "metadata": {
    "execution": {
     "iopub.execute_input": "2025-06-10T15:14:42.202178Z",
     "iopub.status.busy": "2025-06-10T15:14:42.201533Z",
     "iopub.status.idle": "2025-06-10T15:14:42.417747Z",
     "shell.execute_reply": "2025-06-10T15:14:42.416970Z",
     "shell.execute_reply.started": "2025-06-10T15:14:42.202146Z"
    },
    "trusted": true
   },
   "outputs": [
    {
     "data": {
      "text/html": [
       "<div>\n",
       "<style scoped>\n",
       "    .dataframe tbody tr th:only-of-type {\n",
       "        vertical-align: middle;\n",
       "    }\n",
       "\n",
       "    .dataframe tbody tr th {\n",
       "        vertical-align: top;\n",
       "    }\n",
       "\n",
       "    .dataframe thead th {\n",
       "        text-align: right;\n",
       "    }\n",
       "</style>\n",
       "<table border=\"1\" class=\"dataframe\">\n",
       "  <thead>\n",
       "    <tr style=\"text-align: right;\">\n",
       "      <th></th>\n",
       "      <th>data</th>\n",
       "      <th>label</th>\n",
       "    </tr>\n",
       "  </thead>\n",
       "  <tbody>\n",
       "    <tr>\n",
       "      <th>0</th>\n",
       "      <td>an extremist hindu crying for no reason</td>\n",
       "      <td>hate</td>\n",
       "    </tr>\n",
       "    <tr>\n",
       "      <th>1</th>\n",
       "      <td>हमारे मूर्धन्य हमारा खुदा हैं एक hi होता हैं</td>\n",
       "      <td>non-hate</td>\n",
       "    </tr>\n",
       "    <tr>\n",
       "      <th>2</th>\n",
       "      <td>इसमें देखो कौन पैसे के लिए दौड़ता he हिन्दू एक...</td>\n",
       "      <td>non-hate</td>\n",
       "    </tr>\n",
       "    <tr>\n",
       "      <th>3</th>\n",
       "      <td>वही नारा अब हम लोगों को भी follow करना पड़ेगा</td>\n",
       "      <td>non-hate</td>\n",
       "    </tr>\n",
       "    <tr>\n",
       "      <th>4</th>\n",
       "      <td>तुम जैसे कुछ बूंद लोगों की वजह se सबकी pakista...</td>\n",
       "      <td>non-hate</td>\n",
       "    </tr>\n",
       "  </tbody>\n",
       "</table>\n",
       "</div>"
      ],
      "text/plain": [
       "                                                data     label\n",
       "0            an extremist hindu crying for no reason      hate\n",
       "1       हमारे मूर्धन्य हमारा खुदा हैं एक hi होता हैं  non-hate\n",
       "2  इसमें देखो कौन पैसे के लिए दौड़ता he हिन्दू एक...  non-hate\n",
       "3      वही नारा अब हम लोगों को भी follow करना पड़ेगा  non-hate\n",
       "4  तुम जैसे कुछ बूंद लोगों की वजह se सबकी pakista...  non-hate"
      ]
     },
     "execution_count": 5,
     "metadata": {},
     "output_type": "execute_result"
    }
   ],
   "source": [
    "df = pd.read_csv(\"data/hinglish-hate/hate-dataset-train.csv\")\n",
    "df.head()"
   ]
  },
  {
   "cell_type": "markdown",
   "metadata": {},
   "source": [
    "- Tokenize Data for MuRIL"
   ]
  },
  {
   "cell_type": "code",
   "execution_count": 6,
   "metadata": {
    "execution": {
     "iopub.execute_input": "2025-06-10T15:14:45.535200Z",
     "iopub.status.busy": "2025-06-10T15:14:45.534429Z",
     "iopub.status.idle": "2025-06-10T15:14:45.549434Z",
     "shell.execute_reply": "2025-06-10T15:14:45.548640Z",
     "shell.execute_reply.started": "2025-06-10T15:14:45.535174Z"
    },
    "trusted": true
   },
   "outputs": [
    {
     "name": "stdout",
     "output_type": "stream",
     "text": [
      "Encoder has the following classes: ['hate' 'non-hate']\n",
      "The new data type for y is <class 'numpy.ndarray'>\n"
     ]
    }
   ],
   "source": [
    "class MyDataset(Dataset):\n",
    "    def __init__(self, texts, labels, tokenizer, max_length=128):\n",
    "        self.tokenizer = tokenizer\n",
    "        self.texts = texts\n",
    "        self.labels = self.encode_labels(labels)\n",
    "        self.max_length = max_length\n",
    "\n",
    "    def encode_labels(self, y):\n",
    "        encoder = LabelEncoder()\n",
    "        encoder.fit(y)\n",
    "        y_encoded = encoder.transform(y)\n",
    "        self.label_encoder = encoder  # save encoder for inverse_transform if needed\n",
    "        print(f\"Encoder has the following classes: {encoder.classes_}\")\n",
    "        print(f\"The new data type for y is {type(y_encoded)}\")\n",
    "        return y_encoded\n",
    "\n",
    "    def __len__(self):\n",
    "        return len(self.texts)\n",
    "\n",
    "    def __getitem__(self, idx):\n",
    "        text = str(self.texts[idx])\n",
    "        label = self.labels[idx]\n",
    "\n",
    "        encoding = self.tokenizer.encode_plus(\n",
    "            text,\n",
    "            add_special_tokens=True,\n",
    "            max_length=self.max_length,\n",
    "            padding='max_length',\n",
    "            truncation=True,\n",
    "            return_attention_mask=True,\n",
    "            return_tensors='pt'\n",
    "        )\n",
    "\n",
    "        input_ids = encoding['input_ids'].squeeze(0)         # remove batch dim\n",
    "        attention_mask = encoding['attention_mask'].squeeze(0)\n",
    "\n",
    "        return {\n",
    "            'input_ids': input_ids,\n",
    "            'attention_mask': attention_mask,\n",
    "            'labels': torch.tensor(label, dtype=torch.long)\n",
    "        }\n",
    "\n",
    "# Usage\n",
    "X = df.data.values\n",
    "y = df.label.values\n",
    "\n",
    "dataset = MyDataset(X, y, tokenizer)"
   ]
  },
  {
   "cell_type": "markdown",
   "metadata": {},
   "source": [
    "- Split into Train and Eval Sets"
   ]
  },
  {
   "cell_type": "code",
   "execution_count": 7,
   "metadata": {
    "execution": {
     "iopub.execute_input": "2025-06-10T15:14:49.630520Z",
     "iopub.status.busy": "2025-06-10T15:14:49.630233Z",
     "iopub.status.idle": "2025-06-10T15:14:49.638718Z",
     "shell.execute_reply": "2025-06-10T15:14:49.637980Z",
     "shell.execute_reply.started": "2025-06-10T15:14:49.630499Z"
    },
    "trusted": true
   },
   "outputs": [
    {
     "name": "stdout",
     "output_type": "stream",
     "text": [
      "24230 training samples\n",
      "2693 validation samples\n"
     ]
    }
   ],
   "source": [
    "train_size = int(0.9 * len(dataset))\n",
    "val_size = len(dataset) - train_size\n",
    "\n",
    "train_dataset, val_dataset = random_split(dataset, [train_size, val_size])\n",
    "\n",
    "print(f\"{train_size} training samples\")\n",
    "print(f\"{val_size} validation samples\")"
   ]
  },
  {
   "cell_type": "markdown",
   "metadata": {},
   "source": [
    "### Load Model"
   ]
  },
  {
   "cell_type": "markdown",
   "metadata": {},
   "source": [
    "- Set custom metrics and class weights"
   ]
  },
  {
   "cell_type": "code",
   "execution_count": 8,
   "metadata": {
    "execution": {
     "iopub.execute_input": "2025-06-10T15:14:54.041963Z",
     "iopub.status.busy": "2025-06-10T15:14:54.041431Z",
     "iopub.status.idle": "2025-06-10T15:14:54.223556Z",
     "shell.execute_reply": "2025-06-10T15:14:54.222959Z",
     "shell.execute_reply.started": "2025-06-10T15:14:54.041917Z"
    },
    "trusted": true
   },
   "outputs": [
    {
     "name": "stdout",
     "output_type": "stream",
     "text": [
      "['hate' 'non-hate']\n"
     ]
    }
   ],
   "source": [
    "def compute_metrics(pred):\n",
    "    labels = pred.label_ids\n",
    "    preds = pred.predictions.argmax(-1)\n",
    "\n",
    "    # Calculate accuracy\n",
    "    accuracy = accuracy_score(labels, preds)\n",
    "\n",
    "   # Calculate precision, recall, and F1-score\n",
    "    precision = precision_score(labels, preds, average='weighted', zero_division=1)\n",
    "    recall = recall_score(labels, preds, average='weighted', zero_division=1)\n",
    "    f1 = f1_score(labels, preds, average='weighted', zero_division=1)\n",
    "\n",
    "    return {\n",
    "        'accuracy': accuracy,\n",
    "        'precision': precision,\n",
    "        'recall': recall,\n",
    "        'f1': f1\n",
    "    }\n",
    "\n",
    "\n",
    "labels_class = df['label']\n",
    "print(np.unique(labels_class))\n",
    "class_weights = compute_class_weight(\"balanced\", classes=np.unique(labels_class), y=labels_class)\n",
    "\n",
    "class_weights = torch.tensor(class_weights, dtype=torch.float32)\n",
    "class_weights = class_weights.to(device)"
   ]
  },
  {
   "cell_type": "markdown",
   "metadata": {},
   "source": [
    "- Load Model"
   ]
  },
  {
   "cell_type": "code",
   "execution_count": 9,
   "metadata": {
    "collapsed": true,
    "execution": {
     "iopub.execute_input": "2025-06-10T15:14:59.676858Z",
     "iopub.status.busy": "2025-06-10T15:14:59.676556Z",
     "iopub.status.idle": "2025-06-10T15:15:05.577531Z",
     "shell.execute_reply": "2025-06-10T15:15:05.576650Z",
     "shell.execute_reply.started": "2025-06-10T15:14:59.676839Z"
    },
    "jupyter": {
     "outputs_hidden": true
    },
    "trusted": true
   },
   "outputs": [
    {
     "data": {
      "application/vnd.jupyter.widget-view+json": {
       "model_id": "0ab72549950543189e84ece7b63021eb",
       "version_major": 2,
       "version_minor": 0
      },
      "text/plain": [
       "pytorch_model.bin:   0%|          | 0.00/953M [00:00<?, ?B/s]"
      ]
     },
     "metadata": {},
     "output_type": "display_data"
    },
    {
     "data": {
      "application/vnd.jupyter.widget-view+json": {
       "model_id": "70469f3289ea4a8cb7daaf86fb9f3993",
       "version_major": 2,
       "version_minor": 0
      },
      "text/plain": [
       "model.safetensors:   0%|          | 0.00/953M [00:00<?, ?B/s]"
      ]
     },
     "metadata": {},
     "output_type": "display_data"
    },
    {
     "name": "stderr",
     "output_type": "stream",
     "text": [
      "Some weights of BertForSequenceClassification were not initialized from the model checkpoint at google/muril-base-cased and are newly initialized: ['classifier.bias', 'classifier.weight']\n",
      "You should probably TRAIN this model on a down-stream task to be able to use it for predictions and inference.\n"
     ]
    },
    {
     "data": {
      "text/plain": [
       "BertForSequenceClassification(\n",
       "  (bert): BertModel(\n",
       "    (embeddings): BertEmbeddings(\n",
       "      (word_embeddings): Embedding(197285, 768, padding_idx=0)\n",
       "      (position_embeddings): Embedding(512, 768)\n",
       "      (token_type_embeddings): Embedding(2, 768)\n",
       "      (LayerNorm): LayerNorm((768,), eps=1e-12, elementwise_affine=True)\n",
       "      (dropout): Dropout(p=0.1, inplace=False)\n",
       "    )\n",
       "    (encoder): BertEncoder(\n",
       "      (layer): ModuleList(\n",
       "        (0-11): 12 x BertLayer(\n",
       "          (attention): BertAttention(\n",
       "            (self): BertSdpaSelfAttention(\n",
       "              (query): Linear(in_features=768, out_features=768, bias=True)\n",
       "              (key): Linear(in_features=768, out_features=768, bias=True)\n",
       "              (value): Linear(in_features=768, out_features=768, bias=True)\n",
       "              (dropout): Dropout(p=0.1, inplace=False)\n",
       "            )\n",
       "            (output): BertSelfOutput(\n",
       "              (dense): Linear(in_features=768, out_features=768, bias=True)\n",
       "              (LayerNorm): LayerNorm((768,), eps=1e-12, elementwise_affine=True)\n",
       "              (dropout): Dropout(p=0.1, inplace=False)\n",
       "            )\n",
       "          )\n",
       "          (intermediate): BertIntermediate(\n",
       "            (dense): Linear(in_features=768, out_features=3072, bias=True)\n",
       "            (intermediate_act_fn): GELUActivation()\n",
       "          )\n",
       "          (output): BertOutput(\n",
       "            (dense): Linear(in_features=3072, out_features=768, bias=True)\n",
       "            (LayerNorm): LayerNorm((768,), eps=1e-12, elementwise_affine=True)\n",
       "            (dropout): Dropout(p=0.1, inplace=False)\n",
       "          )\n",
       "        )\n",
       "      )\n",
       "    )\n",
       "    (pooler): BertPooler(\n",
       "      (dense): Linear(in_features=768, out_features=768, bias=True)\n",
       "      (activation): Tanh()\n",
       "    )\n",
       "  )\n",
       "  (dropout): Dropout(p=0.1, inplace=False)\n",
       "  (classifier): Linear(in_features=768, out_features=2, bias=True)\n",
       ")"
      ]
     },
     "execution_count": 9,
     "metadata": {},
     "output_type": "execute_result"
    }
   ],
   "source": [
    "model = AutoModelForSequenceClassification.from_pretrained(\n",
    "        model_name,\n",
    "        num_labels = 2,\n",
    "        output_hidden_states = False,\n",
    ")\n",
    "\n",
    "model.to(device)"
   ]
  },
  {
   "cell_type": "markdown",
   "metadata": {},
   "source": [
    "- Set Hyperparameters"
   ]
  },
  {
   "cell_type": "code",
   "execution_count": 10,
   "metadata": {
    "execution": {
     "iopub.execute_input": "2025-06-10T15:15:10.839525Z",
     "iopub.status.busy": "2025-06-10T15:15:10.838963Z",
     "iopub.status.idle": "2025-06-10T15:15:10.842980Z",
     "shell.execute_reply": "2025-06-10T15:15:10.842292Z",
     "shell.execute_reply.started": "2025-06-10T15:15:10.839492Z"
    },
    "trusted": true
   },
   "outputs": [],
   "source": [
    "batch_size = 32\n",
    "epochs = 4\n",
    "learning_rate = 2e-5"
   ]
  },
  {
   "cell_type": "markdown",
   "metadata": {},
   "source": [
    "- Define custom loss function, optimizer and scheduler"
   ]
  },
  {
   "cell_type": "code",
   "execution_count": 11,
   "metadata": {
    "execution": {
     "iopub.execute_input": "2025-06-10T15:15:13.268814Z",
     "iopub.status.busy": "2025-06-10T15:15:13.268571Z",
     "iopub.status.idle": "2025-06-10T15:15:13.327399Z",
     "shell.execute_reply": "2025-06-10T15:15:13.326387Z",
     "shell.execute_reply.started": "2025-06-10T15:15:13.268796Z"
    },
    "trusted": true
   },
   "outputs": [],
   "source": [
    "class ClassificationTrainer(Trainer):\n",
    "    def compute_loss(self, model, inputs, return_outputs=False, num_items_in_batch=batch_size):\n",
    "        labels = inputs.get(\"labels\")\n",
    "        outputs = model(**inputs)\n",
    "        logits = outputs.get('logits')\n",
    "        loss_fct = nn.CrossEntropyLoss(weight=class_weights, reduction='mean')\n",
    "        loss = loss_fct(logits, labels)\n",
    "        return (loss, outputs) if return_outputs else loss\n",
    "\n",
    "\n",
    "optimizer = AdamW(model.parameters(),\n",
    "                lr = learning_rate,\n",
    "                )\n",
    "\n",
    "\n",
    "scheduler = get_linear_schedule_with_warmup(\n",
    "            optimizer,\n",
    "            num_warmup_steps=0,\n",
    "            num_training_steps=(len(train_dataset) // batch_size) * epochs\n",
    ")\n",
    "\n",
    "\n",
    "training_args = TrainingArguments(\n",
    "    output_dir=\"/kaggle/working/results\",\n",
    "    eval_strategy=\"epoch\",\n",
    "    save_strategy=\"epoch\",\n",
    "    save_total_limit=1,\n",
    "    per_device_train_batch_size=batch_size,\n",
    "    per_device_eval_batch_size=batch_size,\n",
    "    num_train_epochs=epochs,\n",
    "    logging_dir=\"/kaggle/working/logs\",\n",
    "    load_best_model_at_end=True,\n",
    "    push_to_hub=False,\n",
    "    report_to=\"none\",\n",
    ")\n",
    "\n",
    "\n",
    "trainer = ClassificationTrainer(\n",
    "    model=model,\n",
    "    args=training_args,\n",
    "    compute_metrics=compute_metrics,\n",
    "    train_dataset=train_dataset,\n",
    "    eval_dataset=val_dataset,\n",
    "    optimizers=(optimizer, scheduler)\n",
    ")"
   ]
  },
  {
   "cell_type": "markdown",
   "metadata": {},
   "source": [
    "- Train the model"
   ]
  },
  {
   "cell_type": "code",
   "execution_count": 12,
   "metadata": {
    "execution": {
     "iopub.execute_input": "2025-06-10T15:15:17.894862Z",
     "iopub.status.busy": "2025-06-10T15:15:17.894005Z",
     "iopub.status.idle": "2025-06-10T15:37:40.985650Z",
     "shell.execute_reply": "2025-06-10T15:37:40.985089Z",
     "shell.execute_reply.started": "2025-06-10T15:15:17.894828Z"
    },
    "trusted": true
   },
   "outputs": [
    {
     "data": {
      "text/html": [
       "\n",
       "    <div>\n",
       "      \n",
       "      <progress value='3032' max='3032' style='width:300px; height:20px; vertical-align: middle;'></progress>\n",
       "      [3032/3032 22:20, Epoch 4/4]\n",
       "    </div>\n",
       "    <table border=\"1\" class=\"dataframe\">\n",
       "  <thead>\n",
       " <tr style=\"text-align: left;\">\n",
       "      <th>Epoch</th>\n",
       "      <th>Training Loss</th>\n",
       "      <th>Validation Loss</th>\n",
       "      <th>Accuracy</th>\n",
       "      <th>Precision</th>\n",
       "      <th>Recall</th>\n",
       "      <th>F1</th>\n",
       "    </tr>\n",
       "  </thead>\n",
       "  <tbody>\n",
       "    <tr>\n",
       "      <td>1</td>\n",
       "      <td>0.645600</td>\n",
       "      <td>0.558583</td>\n",
       "      <td>0.694022</td>\n",
       "      <td>0.723726</td>\n",
       "      <td>0.694022</td>\n",
       "      <td>0.696692</td>\n",
       "    </tr>\n",
       "    <tr>\n",
       "      <td>2</td>\n",
       "      <td>0.494200</td>\n",
       "      <td>0.524126</td>\n",
       "      <td>0.749722</td>\n",
       "      <td>0.748458</td>\n",
       "      <td>0.749722</td>\n",
       "      <td>0.748937</td>\n",
       "    </tr>\n",
       "    <tr>\n",
       "      <td>3</td>\n",
       "      <td>0.418200</td>\n",
       "      <td>0.528113</td>\n",
       "      <td>0.759376</td>\n",
       "      <td>0.761458</td>\n",
       "      <td>0.759376</td>\n",
       "      <td>0.760174</td>\n",
       "    </tr>\n",
       "    <tr>\n",
       "      <td>4</td>\n",
       "      <td>0.363200</td>\n",
       "      <td>0.567582</td>\n",
       "      <td>0.759005</td>\n",
       "      <td>0.763862</td>\n",
       "      <td>0.759005</td>\n",
       "      <td>0.760448</td>\n",
       "    </tr>\n",
       "  </tbody>\n",
       "</table><p>"
      ],
      "text/plain": [
       "<IPython.core.display.HTML object>"
      ]
     },
     "metadata": {},
     "output_type": "display_data"
    },
    {
     "data": {
      "text/plain": [
       "TrainOutput(global_step=3032, training_loss=0.4720120574679412, metrics={'train_runtime': 1342.0011, 'train_samples_per_second': 72.221, 'train_steps_per_second': 2.259, 'total_flos': 6375180871372800.0, 'train_loss': 0.4720120574679412, 'epoch': 4.0})"
      ]
     },
     "execution_count": 12,
     "metadata": {},
     "output_type": "execute_result"
    }
   ],
   "source": [
    "trainer.train()"
   ]
  },
  {
   "cell_type": "markdown",
   "metadata": {},
   "source": [
    "### Evaulation with Test Set"
   ]
  },
  {
   "cell_type": "markdown",
   "metadata": {},
   "source": [
    "- Load Test Data"
   ]
  },
  {
   "cell_type": "code",
   "execution_count": null,
   "metadata": {
    "execution": {
     "iopub.execute_input": "2025-06-10T15:37:46.700318Z",
     "iopub.status.busy": "2025-06-10T15:37:46.699820Z",
     "iopub.status.idle": "2025-06-10T15:37:46.728882Z",
     "shell.execute_reply": "2025-06-10T15:37:46.728227Z",
     "shell.execute_reply.started": "2025-06-10T15:37:46.700294Z"
    },
    "trusted": true
   },
   "outputs": [
    {
     "name": "stdout",
     "output_type": "stream",
     "text": [
      "Encoder has the following classes: ['hate' 'non-hate']\n",
      "The new data type for y is <class 'numpy.ndarray'>\n"
     ]
    }
   ],
   "source": [
    "test_df = pd.read_csv(\"data/hinglish-hate/test-task1.csv\")\n",
    "X = test_df.data.values\n",
    "y = test_df.label.values\n",
    "test_dataset = MyDataset(X, y, tokenizer)"
   ]
  },
  {
   "cell_type": "markdown",
   "metadata": {},
   "source": [
    "- Predict Labels"
   ]
  },
  {
   "cell_type": "code",
   "execution_count": 14,
   "metadata": {
    "execution": {
     "iopub.execute_input": "2025-06-10T15:37:51.763818Z",
     "iopub.status.busy": "2025-06-10T15:37:51.763014Z",
     "iopub.status.idle": "2025-06-10T15:37:56.987102Z",
     "shell.execute_reply": "2025-06-10T15:37:56.986408Z",
     "shell.execute_reply.started": "2025-06-10T15:37:51.763790Z"
    },
    "trusted": true
   },
   "outputs": [
    {
     "data": {
      "text/html": [],
      "text/plain": [
       "<IPython.core.display.HTML object>"
      ]
     },
     "metadata": {},
     "output_type": "display_data"
    },
    {
     "data": {
      "text/plain": [
       "PredictionOutput(predictions=array([[-0.75391215,  0.7427963 ],\n",
       "       [-0.27820474,  0.27296558],\n",
       "       [-0.9175914 ,  0.9036926 ],\n",
       "       ...,\n",
       "       [-0.7722663 ,  0.7625929 ],\n",
       "       [ 1.1774191 , -1.1539279 ],\n",
       "       [ 1.2186581 , -1.1933494 ]], dtype=float32), label_ids=array([1, 0, 1, ..., 1, 0, 0]), metrics={'test_loss': 0.508640706539154, 'test_accuracy': 0.7671136203246295, 'test_precision': 0.7729729596193579, 'test_recall': 0.7671136203246295, 'test_f1': 0.7691553758175734, 'test_runtime': 5.2149, 'test_samples_per_second': 271.722, 'test_steps_per_second': 8.629})"
      ]
     },
     "execution_count": 14,
     "metadata": {},
     "output_type": "execute_result"
    }
   ],
   "source": [
    "trainer.predict(test_dataset)"
   ]
  },
  {
   "cell_type": "code",
   "execution_count": null,
   "metadata": {
    "execution": {
     "iopub.execute_input": "2025-06-08T16:19:42.739187Z",
     "iopub.status.busy": "2025-06-08T16:19:42.738917Z",
     "iopub.status.idle": "2025-06-08T16:19:45.086182Z",
     "shell.execute_reply": "2025-06-08T16:19:45.085479Z",
     "shell.execute_reply.started": "2025-06-08T16:19:42.739167Z"
    },
    "trusted": true
   },
   "outputs": [],
   "source": [
    "output = \"classifier/\"\n",
    "model.save_pretrained(output)\n",
    "tokenizer.save_pretrained(output)"
   ]
  },
  {
   "cell_type": "markdown",
   "metadata": {},
   "source": [
    "### (Optional) Continue Training"
   ]
  },
  {
   "cell_type": "code",
   "execution_count": null,
   "metadata": {
    "execution": {
     "iopub.execute_input": "2025-06-09T06:31:19.168958Z",
     "iopub.status.busy": "2025-06-09T06:31:19.168692Z",
     "iopub.status.idle": "2025-06-09T06:31:19.505547Z",
     "shell.execute_reply": "2025-06-09T06:31:19.504618Z",
     "shell.execute_reply.started": "2025-06-09T06:31:19.168937Z"
    },
    "trusted": true
   },
   "outputs": [],
   "source": [
    "trainer.train(resume_from_checkpoint=True)"
   ]
  }
 ],
 "metadata": {
  "kaggle": {
   "accelerator": "gpu",
   "dataSources": [
    {
     "datasetId": 7603360,
     "sourceId": 12078472,
     "sourceType": "datasetVersion"
    },
    {
     "datasetId": 7608625,
     "sourceId": 12086720,
     "sourceType": "datasetVersion"
    }
   ],
   "dockerImageVersionId": 31041,
   "isGpuEnabled": true,
   "isInternetEnabled": true,
   "language": "python",
   "sourceType": "notebook"
  },
  "kernelspec": {
   "display_name": "Python 3",
   "language": "python",
   "name": "python3"
  },
  "language_info": {
   "codemirror_mode": {
    "name": "ipython",
    "version": 3
   },
   "file_extension": ".py",
   "mimetype": "text/x-python",
   "name": "python",
   "nbconvert_exporter": "python",
   "pygments_lexer": "ipython3",
   "version": "3.11.11"
  }
 },
 "nbformat": 4,
 "nbformat_minor": 4
}
